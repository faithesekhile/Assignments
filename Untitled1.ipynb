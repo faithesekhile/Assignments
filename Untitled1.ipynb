{
  "metadata": {
    "language_info": {
      "codemirror_mode": {
        "name": "python",
        "version": 3
      },
      "file_extension": ".py",
      "mimetype": "text/x-python",
      "name": "python",
      "nbconvert_exporter": "python",
      "pygments_lexer": "ipython3",
      "version": "3.8"
    },
    "kernelspec": {
      "name": "python",
      "display_name": "Pyolite",
      "language": "python"
    }
  },
  "nbformat_minor": 4,
  "nbformat": 4,
  "cells": [
    {
      "cell_type": "markdown",
      "source": "<h1>My Jupyter Notebook</h1>",
      "metadata": {}
    },
    {
      "cell_type": "markdown",
      "source": "<b>Esekhile Faith Osemudiamen</b>\n    \nData scientist",
      "metadata": {}
    },
    {
      "cell_type": "markdown",
      "source": "<i>I am very intrested in data science because data manipulation is very intresting and it yields beauitiful results.</i>",
      "metadata": {}
    },
    {
      "cell_type": "markdown",
      "source": "<h3>A program to find sum of two numbers </h3>",
      "metadata": {}
    },
    {
      "cell_type": "code",
      "source": "a=2\nb=3\nc=a+b\nprint(c)",
      "metadata": {
        "trusted": true
      },
      "execution_count": 2,
      "outputs": [
        {
          "name": "stdout",
          "text": "5\n",
          "output_type": "stream"
        }
      ]
    },
    {
      "cell_type": "markdown",
      "source": "<ul>\n    <li>Faith</li>\n    <li>Cherish</li>\n    </ul>\n\n<ol>\n<li>Apple</li>\n<li>Banana</li>\n</ol>\n\n<a href = \"https://loisinteriors.com/\">Lois interiors website</a>",
      "metadata": {}
    },
    {
      "cell_type": "code",
      "source": "",
      "metadata": {},
      "execution_count": null,
      "outputs": []
    }
  ]
}